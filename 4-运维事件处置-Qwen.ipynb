{
 "cells": [
  {
   "cell_type": "code",
   "execution_count": 5,
   "id": "7bef0e88",
   "metadata": {},
   "outputs": [],
   "source": [
    "\"\"\"\n",
    "1、告警内容理解。根据输入的告警信息，结合第三方接口数据，判断当前的异常情况（告警对象、异常模式）；\n",
    "2、分析方法建议。根据当前告警内容，结合应急预案、运维文档和大语言模型自有知识，形成分析方法的建议；\n",
    "3、分析内容自动提取。根据用户输入的分析内容需求，调用多种第三方接口获取分析数据，并进行总结；\n",
    "4、处置方法推荐和执行。根据当前上下文的故障场景理解，结合应急预案和第三方接口，形成推荐处置方案，待用户确认后调用第三方接口进行执行。\n",
    "\"\"\"\n",
    "import json\n",
    "import os\n",
    "import random\n",
    "import dashscope\n",
    "from dashscope.api_entities.dashscope_response import Role\n",
    "\n",
    "# 从环境变量获取API Key\n",
    "api_key = os.environ.get(\"DASHSCOPE_API_KEY\")\n",
    "if not api_key:\n",
    "    raise ValueError(\"请先设置环境变量 DASHSCOPE_API_KEY，再运行本程序！\")\n",
    "dashscope.api_key = api_key\n",
    "\n",
    "from openai import OpenAI\n",
    "\n",
    "# 通过第三方接口获取数据库服务器状态\n",
    "def get_current_status():\n",
    "    # 生成连接数数据\n",
    "    connections = random.randint(10, 100)\n",
    "    # 生成CPU使用率数据\n",
    "    cpu_usage = round(random.uniform(1, 100), 1)\n",
    "    # 生成内存使用率数据\n",
    "    memory_usage = round(random.uniform(10, 100), 1)\n",
    "    status_info = {\n",
    "        \"连接数\": connections,\n",
    "        \"CPU使用率\": f\"{cpu_usage}%\",\n",
    "        \"内存使用率\": f\"{memory_usage}%\"\n",
    "    }\n",
    "    return json.dumps(status_info, ensure_ascii=False)\n",
    "\n",
    "# 封装模型响应函数\n",
    "def get_response(messages):\n",
    "    response = dashscope.Generation.call(\n",
    "        model='qwen-turbo',\n",
    "        messages=messages,\n",
    "        tools=tools,\n",
    "        result_format='message'  # 将输出设置为message形式\n",
    "    )\n",
    "    return response\n",
    "    \n",
    "current_locals = locals()\n",
    "current_locals\n",
    "\n",
    "tools = [\n",
    "        {\n",
    "            \"type\": \"function\",\n",
    "            \"function\": {\n",
    "                \"name\": \"get_current_status\",\n",
    "                \"description\": \"调用监控系统接口，获取当前数据库服务器性能指标，包括：连接数、CPU使用率、内存使用率\",\n",
    "                \"parameters\": {\n",
    "                },\n",
    "                \"required\": []\n",
    "            }                \n",
    "        }\n",
    "    ]\n",
    "\n",
    "query = \"\"\"告警：数据库连接数超过设定阈值\n",
    "时间：2024-08-03 15:30:00\n",
    "\"\"\"\n",
    "messages=[\n",
    "    {\"role\": \"system\", \"content\": \"我是运维分析师，用户会告诉我们告警内容。我会基于告警内容，判断当前的异常情况（告警对象、异常模式）\"},\n",
    "    {\"role\": \"user\", \"content\": query}]\n"
   ]
  },
  {
   "cell_type": "code",
   "execution_count": 6,
   "id": "cf958f2b-b56c-4c4a-b957-356cbed3dcac",
   "metadata": {},
   "outputs": [],
   "source": [
    "while True:\n",
    "    response = get_response(messages)\n",
    "    message = response.output.choices[0].message\n",
    "    messages.append(message)\n",
    "    #print('response=', response)\n",
    "\n",
    "    if response.output.choices[0].finish_reason == 'stop':\n",
    "        break\n",
    "    \n",
    "    # 判断用户是否要call function\n",
    "    if message.tool_calls:\n",
    "        # 获取fn_name, fn_arguments\n",
    "        fn_name = message.tool_calls[0]['function']['name']\n",
    "        fn_arguments = message.tool_calls[0]['function']['arguments']\n",
    "        arguments_json = json.loads(fn_arguments)\n",
    "        #print(f'fn_name={fn_name} fn_arguments={fn_arguments}')\n",
    "        function = current_locals[fn_name]\n",
    "        tool_response = function(**arguments_json)\n",
    "        tool_info = {\"name\": \"get_current_weather\", \"role\":\"tool\", \"content\": tool_response}\n",
    "        #print('tool_info=', tool_info)\n",
    "        messages.append(tool_info)"
   ]
  },
  {
   "cell_type": "code",
   "execution_count": 3,
   "id": "9534f59c-eeb4-4d1b-9943-a08e9d8ca104",
   "metadata": {},
   "outputs": [
    {
     "name": "stdout",
     "output_type": "stream",
     "text": [
      "[{'role': 'system', 'content': '我是运维分析师，用户会告诉我们告警内容。我会基于告警内容，判断当前的异常情况（告警对象、异常模式）'}, {'role': 'user', 'content': '告警：数据库连接数超过设定阈值\\n时间：2024-08-03 15:30:00\\n'}, Message({'role': 'assistant', 'content': '', 'tool_calls': [{'function': {'name': 'get_current_status', 'arguments': '{}'}, 'index': 0, 'id': 'call_70d2441d3fff45dc98c33b', 'type': 'function'}]}), {'name': 'get_current_weather', 'role': 'tool', 'content': '{\"连接数\": 71, \"CPU使用率\": \"55.3%\", \"内存使用率\": \"76.9%\"}'}, Message({'role': 'assistant', 'content': '根据当前数据库服务器的性能指标，连接数为71，超过了设定的阈值。这表明可能存在高负载或资源争用的问题。\\n\\n建议采取以下措施：\\n1. **检查应用程序**：确认是否有异常的请求或程序导致连接数激增。\\n2. **优化查询**：如果数据库查询效率低下，可能会导致连接数增加。\\n3. **调整阈值**：如果连接数是正常情况下的高负载，可以考虑重新评估并调整阈值。\\n4. **扩展资源**：如果连接数持续高，可能需要考虑增加服务器资源或进行负载均衡。\\n\\n请进一步分析具体原因，并采取相应的解决措施。'})]\n"
     ]
    }
   ],
   "source": [
    "print(messages)"
   ]
  },
  {
   "cell_type": "code",
   "execution_count": null,
   "id": "3e82f3ce-052b-46bc-88a1-8bfa3a6fefa0",
   "metadata": {},
   "outputs": [],
   "source": []
  }
 ],
 "metadata": {
  "kernelspec": {
   "display_name": "Python 3 (ipykernel)",
   "language": "python",
   "name": "python3"
  },
  "language_info": {
   "codemirror_mode": {
    "name": "ipython",
    "version": 3
   },
   "file_extension": ".py",
   "mimetype": "text/x-python",
   "name": "python",
   "nbconvert_exporter": "python",
   "pygments_lexer": "ipython3",
   "version": "3.12.7"
  }
 },
 "nbformat": 4,
 "nbformat_minor": 5
}
