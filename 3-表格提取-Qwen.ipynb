{
 "cells": [
  {
   "cell_type": "code",
   "execution_count": 11,
   "id": "7bef0e88",
   "metadata": {},
   "outputs": [
    {
     "data": {
      "text/plain": [
       "MultiModalConversationResponse(status_code=<HTTPStatus.OK: 200>, request_id='c6488bb7-3c1f-927d-bda5-5ab87438fcb4', code='', message='', output=MultiModalConversationOutput(choices=[Choice(finish_reason='stop', message=Message({'role': 'assistant', 'content': [{'text': '```json\\n{\\n  \"姓名\": \"孙海滨\",\\n  \"性别\": \"男\",\\n  \"民族\": \"汉\",\\n  \"出生\": \"1985年6月26日\",\\n  \"住址\": \"山东省巨野县永丰街道办事处前赵官屯行政村前赵官屯村304号\",\\n  \"公民身份号码\": \"372926198506261115\"\\n}\\n```'}]}))]), usage=MultiModalConversationUsage(input_tokens=792, output_tokens=100))"
      ]
     },
     "execution_count": 11,
     "metadata": {},
     "output_type": "execute_result"
    }
   ],
   "source": [
    "import json\n",
    "import os\n",
    "import dashscope\n",
    "from dashscope.api_entities.dashscope_response import Role\n",
    "# 从环境变量获取API Key\n",
    "api_key = os.environ.get(\"DASHSCOPE_API_KEY\")\n",
    "if not api_key:\n",
    "    raise ValueError(\"请先设置环境变量 DASHSCOPE_API_KEY，再运行本程序！\")\n",
    "dashscope.api_key = api_key\n",
    "from openai import OpenAI\n",
    "\n",
    "# 封装模型响应函数\n",
    "def get_response(messages):\n",
    "    response = dashscope.MultiModalConversation.call(\n",
    "        model='qwen-vl-plus',\n",
    "        messages=messages\n",
    "    )\n",
    "    return response\n",
    "\n",
    "# content = [\n",
    "#     {#'image': 'https://aiwucai.oss-cn-huhehaote.aliyuncs.com/pdf_table.jpg'}, # Either a local path or an url\n",
    "#     {'image': 'C://Users/xlnih/Pictures/Screenshots/11.png'}, # Either a local path or an url \n",
    "#     {'text': '这是一个表格图片，帮我提取里面的内容，输出JSON格式'}\n",
    "#        ]\n",
    "\n",
    "content = [\n",
    "    # {'image': 'https://aiwucai.oss-cn-huhehaote.aliyuncs.com/pdf_table.jpg'},  # 注释掉的URL\n",
    "    # {'image': 'C://Users/xlnih/Pictures/Screenshots/11.png'},  # 本地图片路径\n",
    "    {'image': 'C://Users/xlnih/Pictures/Screenshots/44.png'},  # 本地图片路径\n",
    "    {'text': '这是一个表格图片，帮我提取里面的内容，输出JSON格式'}\n",
    "]\n",
    "\n",
    "messages=[{\"role\": \"user\", \"content\": content}]\n",
    "# 得到响应\n",
    "response = get_response(messages)\n",
    "response"
   ]
  },
  {
   "cell_type": "code",
   "execution_count": 13,
   "id": "e9ddbfd6-ddd7-4919-9f8e-94f0bd2f5472",
   "metadata": {},
   "outputs": [
    {
     "name": "stdout",
     "output_type": "stream",
     "text": [
      "```json\n",
      "{\n",
      "  \"姓名\": \"孙海滨\",\n",
      "  \"性别\": \"男\",\n",
      "  \"民族\": \"汉\",\n",
      "  \"出生\": \"1985年6月26日\",\n",
      "  \"住址\": \"山东省巨野县永丰街道办事处前赵官屯行政村前赵官屯村304号\",\n",
      "  \"公民身份号码\": \"372926198506261115\"\n",
      "}\n",
      "```\n"
     ]
    }
   ],
   "source": [
    "print(response.output.choices[0].message.content[0]['text'])"
   ]
  },
  {
   "cell_type": "code",
   "execution_count": null,
   "id": "567a9f0c-7873-4fa3-859b-03ae8c5d2119",
   "metadata": {},
   "outputs": [],
   "source": []
  }
 ],
 "metadata": {
  "kernelspec": {
   "display_name": "Python 3 (ipykernel)",
   "language": "python",
   "name": "python3"
  },
  "language_info": {
   "codemirror_mode": {
    "name": "ipython",
    "version": 3
   },
   "file_extension": ".py",
   "mimetype": "text/x-python",
   "name": "python",
   "nbconvert_exporter": "python",
   "pygments_lexer": "ipython3",
   "version": "3.12.7"
  }
 },
 "nbformat": 4,
 "nbformat_minor": 5
}
