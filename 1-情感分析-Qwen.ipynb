{
 "cells": [
  {
   "cell_type": "code",
   "execution_count": 4,
   "id": "d2d11d44-fa60-4e87-a1de-f393320551d9",
   "metadata": {},
   "outputs": [
    {
     "data": {
      "text/plain": [
       "'当然可以！下面是一个使用二分查找法的示例，以 JSON 格式表示：\\n\\n```json\\n{\\n  \"algorithm\": \"binary_search\",\\n  \"description\": \"在有序数组中查找目标值，通过不断将搜索区间对半分来缩小范围。\",\\n  \"parameters\": {\\n    \"array\": [1, 3, 5, 7, 9, 11, 13, 15],\\n    \"target\": 9\\n  },\\n  \"result\": {\\n    \"found\": true,\\n    \"index\": 4\\n  },\\n  \"steps\": [\\n    {\\n      \"step\": 1,\\n      \"low\": 0,\\n      \"high\": 7,\\n      \"mid\": 3,\\n      \"value\": 7,\\n      \"action\": \"7 < 9, 所以搜索右半部分\"\\n    },\\n    {\\n      \"step\": 2,\\n      \"low\": 4,\\n      \"high\": 7,\\n      \"mid\": 5,\\n      \"value\": 11,\\n      \"action\": \"11 > 9, 所以搜索左半部分\"\\n    },\\n    {\\n      \"step\": 3,\\n      \"low\": 4,\\n      \"high\": 5,\\n      \"mid\": 4,\\n      \"value\": 9,\\n      \"action\": \"找到目标值，索引为 4\"\\n    }\\n  ]\\n}\\n```\\n\\n### 说明：\\n- `array` 是一个已排序的数组。\\n- `target` 是要查找的目标值。\\n- `result.found` 表示是否找到目标值。\\n- `result.index` 是目标值在数组中的索引（如果找到）。\\n- `steps` 展示了每一步的查找过程。\\n\\n如果你需要 Python 实现的代码，也可以告诉我！'"
      ]
     },
     "execution_count": 4,
     "metadata": {},
     "output_type": "execute_result"
    }
   ],
   "source": [
    "import json\n",
    "import os\n",
    "import dashscope\n",
    "from dashscope.api_entities.dashscope_response import Role\n",
    "# 从环境变量获取API Key\n",
    "api_key = os.environ.get(\"DASHSCOPE_API_KEY\")\n",
    "if not api_key:\n",
    "    raise ValueError(\"请先设置环境变量 DASHSCOPE_API_KEY，再运行本程序！\")\n",
    "dashscope.api_key = api_key\n",
    "\n",
    "# 封装模型响应函数\n",
    "def get_response(messages):\n",
    "    response = dashscope.Generation.call(\n",
    "        model='qwen-turbo',\n",
    "        messages=messages,\n",
    "        result_format='message'  # 将输出设置为message形式\n",
    "    )\n",
    "    return response\n",
    "    \n",
    "\n",
    "prompt = \"帮我写一个二分查找法，请以JSON格式数据\"\n",
    "messages = [\n",
    "    {\"role\": \"system\", \"content\": \"You are a helpful assistant.\"},\n",
    "    {\"role\": \"user\", \"content\": prompt}\n",
    "]\n",
    "'''\n",
    "review = '我今天很开心，因为我吃了很多自己喜欢的东西。'\n",
    "messages=[\n",
    "    {\"role\": \"system\", \"content\": \"你是一名舆情分析师，帮我判断用户的心态的积极性，回复请用一个词语：正向 或者 负向\"},\n",
    "    {\"role\": \"user\", \"content\": review}\n",
    "  ]\n",
    "'''\n",
    "response = get_response(messages)\n",
    "response.output.choices[0].message.content"
   ]
  },
  {
   "cell_type": "code",
   "execution_count": 5,
   "id": "d5ef6c66-2d5d-4c1c-985f-183c27856c64",
   "metadata": {},
   "outputs": [],
   "source": [
    "messages.append( {\"role\": \"user\", \"content\": \"我好喜欢一个人，开心\"})"
   ]
  },
  {
   "cell_type": "code",
   "execution_count": 6,
   "id": "18aaa94e-502e-4cfe-ba4f-3902a1cce8e0",
   "metadata": {},
   "outputs": [
    {
     "data": {
      "text/plain": [
       "'{\\n  \"binary_search\": {\\n    \"description\": \"二分查找法是一种在有序数组中查找特定元素的算法。它通过将数组分成两半，逐步缩小搜索范围，直到找到目标元素或确定其不存在。\",\\n    \"algorithm\": \"1. 初始化左指针 left = 0，右指针 right = 数组长度 - 1。\\\\n2. 当 left ≤ right 时：\\\\n   a. 计算中间索引 mid = (left + right) // 2。\\\\n   b. 如果 arr[mid] 等于目标值，返回 mid。\\\\n   c. 如果 arr[mid] 小于目标值，将 left 设置为 mid + 1。\\\\n   d. 否则，将 right 设置为 mid - 1。\\\\n3. 如果未找到目标值，返回 -1。\",\\n    \"example\": {\\n      \"array\": [1, 3, 5, 7, 9, 11],\\n      \"target\": 7,\\n      \"result\": 3\\n    }\\n  },\\n  \"message\": \"我好喜欢一个人，开心！\"\\n}'"
      ]
     },
     "execution_count": 6,
     "metadata": {},
     "output_type": "execute_result"
    }
   ],
   "source": [
    "response = get_response(messages)\n",
    "response.output.choices[0].message.content"
   ]
  },
  {
   "cell_type": "code",
   "execution_count": null,
   "id": "837d804a-e7d3-4d70-91e4-374682fd1c8b",
   "metadata": {},
   "outputs": [],
   "source": []
  }
 ],
 "metadata": {
  "kernelspec": {
   "display_name": "Python 3 (ipykernel)",
   "language": "python",
   "name": "python3"
  },
  "language_info": {
   "codemirror_mode": {
    "name": "ipython",
    "version": 3
   },
   "file_extension": ".py",
   "mimetype": "text/x-python",
   "name": "python",
   "nbconvert_exporter": "python",
   "pygments_lexer": "ipython3",
   "version": "3.11.1"
  }
 },
 "nbformat": 4,
 "nbformat_minor": 5
}
