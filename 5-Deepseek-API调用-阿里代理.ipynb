{
 "cells": [
  {
   "cell_type": "code",
   "execution_count": 8,
   "id": "2d000c6f-b435-4224-9fca-2a46492648e0",
   "metadata": {},
   "outputs": [
    {
     "name": "stdout",
     "output_type": "stream",
     "text": [
      "你好呀！👋我是 **DeepSeek-R1**，由中国的人工智能公司 **深度求索（DeepSeek）** 研发的大语言模型。你可以把我当作一个聪明、乐于助人的AI助手～✨\n",
      "\n",
      "我的特点包括：\n",
      "\n",
      "- **强大的文本理解和生成能力**：能回答问题、写作、翻译、编程、学习辅导等等。\n",
      "- **超长上下文记忆（128K tokens）**：可以处理超长文档，适合阅读论文、分析报告等。\n",
      "- **纯文本推理模型**：目前不支持多模态（如图像识别），但文本处理能力非常出色。\n",
      "- **免费使用**：目前没有收费计划，你可以随时来问我问题！\n",
      "\n",
      "无论你是想聊天、学习、工作，还是需要创意灵感，我都可以陪你一起搞定！😊  \n",
      "有什么我可以帮你的吗？\n"
     ]
    }
   ],
   "source": [
    "import dashscope\n",
    "from dashscope.api_entities.dashscope_response import Role\n",
    "import os\n",
    "#dashscope.api_key = \"sk-3feae005fed94d7ea81d76fae50400f4\"\n",
    "\n",
    "# 从环境变量获取API Key\n",
    "api_key = os.environ.get(\"DASHSCOPE_API_KEY\")\n",
    "if not api_key:\n",
    "    raise ValueError(\"请先设置环境变量 DASHSCOPE_API_KEY，再运行本程序！\")\n",
    "dashscope.api_key = api_key\n",
    "\n",
    "# 封装模型响应函数\n",
    "def get_response(messages):\n",
    "    response = dashscope.Generation.call(\n",
    "        model='deepseek-r1',  # 使用 deepseek-r1 模型\n",
    "        messages=messages,\n",
    "        result_format='message'  # 将输出设置为message形式\n",
    "    )\n",
    "    return response\n",
    "\n",
    "# 测试对话\n",
    "messages = [\n",
    "    {\"role\": \"system\", \"content\": \"You are a helpful assistant\"},\n",
    "    {\"role\": \"user\", \"content\": \"你好，你是什么大模型？\"}\n",
    "]\n",
    "response = get_response(messages)\n",
    "print(response.output.choices[0].message.content)"
   ]
  },
  {
   "cell_type": "code",
   "execution_count": null,
   "id": "25ab11a4-2127-45d7-ac5e-48bc131939dc",
   "metadata": {},
   "outputs": [],
   "source": []
  }
 ],
 "metadata": {
  "kernelspec": {
   "display_name": "Python 3 (ipykernel)",
   "language": "python",
   "name": "python3"
  },
  "language_info": {
   "codemirror_mode": {
    "name": "ipython",
    "version": 3
   },
   "file_extension": ".py",
   "mimetype": "text/x-python",
   "name": "python",
   "nbconvert_exporter": "python",
   "pygments_lexer": "ipython3",
   "version": "3.12.7"
  }
 },
 "nbformat": 4,
 "nbformat_minor": 5
}
